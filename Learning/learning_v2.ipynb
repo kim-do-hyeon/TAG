{
 "cells": [
  {
   "cell_type": "code",
   "execution_count": 13,
   "metadata": {},
   "outputs": [],
   "source": [
    "import pandas as pd\n",
    "import torch\n",
    "from transformers import BertTokenizer, BertModel\n",
    "from datetime import datetime\n",
    "import json"
   ]
  },
  {
   "cell_type": "code",
   "execution_count": 14,
   "metadata": {},
   "outputs": [],
   "source": [
    "# JSON 파일 로드\n",
    "with open(\"learning_output_data.json\", \"r\", encoding=\"utf-8\") as f:\n",
    "    json_data = json.load(f)\n",
    "with open(\"Tag_Onehot.json\", \"r\", encoding=\"utf-8\") as f:\n",
    "    onehot_data = json.load(f)"
   ]
  },
  {
   "cell_type": "code",
   "execution_count": 15,
   "metadata": {},
   "outputs": [],
   "source": [
    "# BERT 모델 로드\n",
    "model_name = \"bert-base-uncased\"\n",
    "tokenizer = BertTokenizer.from_pretrained(model_name)\n",
    "bert_model = BertModel.from_pretrained(model_name)\n"
   ]
  },
  {
   "cell_type": "code",
   "execution_count": 16,
   "metadata": {},
   "outputs": [],
   "source": [
    "# 1. Timestamp 처리 함수\n",
    "def process_timestamp(timestamp):\n",
    "    try:\n",
    "        dt = datetime.strptime(timestamp, \"%Y-%m-%d %H:%M:%S.%f\")\n",
    "    except ValueError:\n",
    "        dt = datetime.strptime(timestamp, \"%Y-%m-%d %H:%M:%S\")\n",
    "    return dt.timestamp()"
   ]
  },
  {
   "cell_type": "code",
   "execution_count": 17,
   "metadata": {},
   "outputs": [],
   "source": [
    "# 2. 텍스트 임베딩 함수\n",
    "def embed_text(text):\n",
    "    if text is None or not isinstance(text, str) or text.strip() == \"\":\n",
    "        return [0.0] * 768  # 빈 값은 768차원의 0으로 채움\n",
    "    inputs = tokenizer(text, return_tensors=\"pt\", truncation=True, max_length=512, padding=True)\n",
    "    with torch.no_grad():\n",
    "        outputs = bert_model(**inputs)\n",
    "    return outputs.last_hidden_state.mean(dim=1).squeeze().tolist()\n"
   ]
  },
  {
   "cell_type": "code",
   "execution_count": 18,
   "metadata": {},
   "outputs": [],
   "source": [
    "service_type_mapping = {\n",
    "    \"mail\": [1, 0, 0],\n",
    "    \"drive\": [0, 1, 0],\n",
    "    \"blog\": [0, 0, 1]\n",
    "}\n",
    "zero_list = [0] * 99"
   ]
  },
  {
   "cell_type": "code",
   "execution_count": 19,
   "metadata": {},
   "outputs": [],
   "source": [
    "# 3. 데이터 전처리\n",
    "processed_data = []\n",
    "\n",
    "for record in json_data:\n",
    "    processed_record = {}\n",
    "\n",
    "    # 3.1 메타데이터는 그대로 저장\n",
    "    processed_record[\"incident_type\"] = record.get(\"incident_type\", None)\n",
    "\n",
    "    # 3.2 Timestamp 처리\n",
    "    if \"Timestamp\" in record:\n",
    "        processed_record[\"Timestamp_processed\"] = process_timestamp(record[\"Timestamp\"])\n",
    "\n",
    "    # 3.3 숫자형 필드는 그대로 저장\n",
    "    for key, value in record.items():\n",
    "        if key.startswith(\"jumplist_access_counts_\"):\n",
    "            processed_record[key] = value\n",
    "\n",
    "    # 3.4 텍스트 필드 임베딩\n",
    "    for key, value in record.items():\n",
    "        if (\n",
    "            key.startswith(\"usnjrnl_file_names_\") or\n",
    "            key.startswith(\"lnk_files_linked_paths_\") or\n",
    "            key.startswith(\"jumplist_data_entries_\") or\n",
    "            key.startswith(\"usnjrnl_reasons_\") or\n",
    "            key.startswith(\"usnjrnl_attributes_\") or\n",
    "            key.startswith(\"edge_internet_explorer_urls_\") or\n",
    "            key.startswith(\"locally_accessed_files_paths_\") or\n",
    "            key.startswith(\"mru_recent_files_folder_names_\")\n",
    "        ):\n",
    "            processed_record[f\"{key}_embedding\"] = embed_text(value)\n",
    "\n",
    "    # 추가: file_name과 service_type도 임베딩\n",
    "    if \"file_name\" in record:\n",
    "        processed_record[\"file_name_embedding\"] = embed_text(record[\"file_name\"])\n",
    "    if \"service_type\" in record:\n",
    "        service_type = record.get(\"service_type\", \"unknown\")\n",
    "        one_hot_service_type = service_type_mapping.get(service_type, [0, 0, 0])  # 없는 값은 [0, 0, 0]으로 처리\n",
    "        processed_record[\"service_type_one_hot\"] = one_hot_service_type  # 새로운 키로 추가\n",
    "    if \"web_upload_tag\" in record:\n",
    "        tag_type = record.get(\"web_upload_tag\", \"unnknown\")\n",
    "        one_hot_tag_type = onehot_data.get(tag_type, zero_list)\n",
    "        processed_record[\"tag_type_one_hot\"] = one_hot_tag_type\n",
    "\n",
    "\n",
    "    processed_data.append(processed_record)\n"
   ]
  },
  {
   "cell_type": "code",
   "execution_count": 25,
   "metadata": {},
   "outputs": [],
   "source": [
    "# 5. JSON 파일로 저장\n",
    "with open(\"processed_data.json\", \"w\", encoding=\"utf-8\") as f:\n",
    "    json.dump(processed_data, f, ensure_ascii=False, indent=4)"
   ]
  },
  {
   "cell_type": "code",
   "execution_count": null,
   "metadata": {},
   "outputs": [],
   "source": []
  }
 ],
 "metadata": {
  "kernelspec": {
   "display_name": "Python 3",
   "language": "python",
   "name": "python3"
  },
  "language_info": {
   "codemirror_mode": {
    "name": "ipython",
    "version": 3
   },
   "file_extension": ".py",
   "mimetype": "text/x-python",
   "name": "python",
   "nbconvert_exporter": "python",
   "pygments_lexer": "ipython3",
   "version": "3.11.9"
  }
 },
 "nbformat": 4,
 "nbformat_minor": 2
}
