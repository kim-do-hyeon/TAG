{
 "cells": [
  {
   "cell_type": "code",
   "execution_count": 1,
   "id": "982c3e1c-aa4e-4c6a-8dca-92ff0c88255e",
   "metadata": {},
   "outputs": [],
   "source": [
    "import torch\n",
    "import torch.nn as nn\n",
    "import torch.optim as optim\n",
    "import numpy as np\n",
    "from sklearn.model_selection import train_test_split\n",
    "import sqlite3\n",
    "import pandas as pd\n",
    "from datetime import datetime"
   ]
  },
  {
   "cell_type": "code",
   "execution_count": 2,
   "id": "85d7ca17-65b8-488e-a5f9-13e2a9ea195f",
   "metadata": {},
   "outputs": [],
   "source": [
    "def load_logs_from_database(db_path):\n",
    "    conn = sqlite3.connect(db_path)\n",
    "    \n",
    "    # SQL 쿼리 실행\n",
    "    query = \"\"\"\n",
    "    SELECT\n",
    "        [Event_Date/Time_-_UTC_(yyyy-mm-dd)] AS time,\n",
    "        Current_File_Name AS file_name,\n",
    "        File_Operation AS operation\n",
    "    FROM\n",
    "        LogFile_Analysis\n",
    "    WHERE\n",
    "        File_Operation IN ('Create', 'Modify', 'Delete')\n",
    "    ORDER BY\n",
    "        Current_File_Name, [Event_Date/Time_-_UTC_(yyyy-mm-dd)];\n",
    "    \"\"\"\n",
    "    df = pd.read_sql(query, conn)\n",
    "    \n",
    "    conn.close()\n",
    "\n",
    "    # None 값이 있는 경우 처리\n",
    "    df['time'] = df['time'].fillna('')  # inplace 사용 안 함\n",
    "    df['file_name'] = df['file_name'].fillna('unknown')  # inplace 사용 안 함\n",
    "\n",
    "    logs = list(df.itertuples(index=False, name=None))\n",
    "    \n",
    "    return logs\n"
   ]
  },
  {
   "cell_type": "code",
   "execution_count": 3,
   "id": "4d4f3a28-089c-4b79-85bc-0a2b8621693f",
   "metadata": {},
   "outputs": [],
   "source": [
    "# 날짜 변환 함수\n",
    "def parse_datetime(dt_str):\n",
    "    # dt_str이 None이거나 빈 문자열인 경우 기본값을 설정\n",
    "    if dt_str is None or dt_str == '':\n",
    "        return 0  # 기본값으로 0을 반환\n",
    "\n",
    "    try:\n",
    "        # '%Y-%m-%d %H:%M:%S.%f' 형식으로 시간을 파싱\n",
    "        dt = datetime.strptime(dt_str, '%Y-%m-%d %H:%M:%S.%f')\n",
    "        return int(dt.timestamp())  # 유닉스 타임스탬프로 변환\n",
    "    except ValueError:\n",
    "        print(f\"Invalid datetime format: {dt_str}\")\n",
    "        return 0  # 변환에 실패할 경우 기본값 0을 반환"
   ]
  },
  {
   "cell_type": "code",
   "execution_count": 4,
   "id": "75e33187-61cb-47b5-ad66-c5f157ec0a07",
   "metadata": {},
   "outputs": [],
   "source": [
    "# 데이터셋 생성 함수\n",
    "def create_dataset(logs, time_threshold=300, min_modifications=3):\n",
    "    sequences = []\n",
    "    labels = []\n",
    "\n",
    "    current_sequence = []\n",
    "    modification_count = 0\n",
    "    for i in range(1, len(logs)):\n",
    "        log_time = parse_datetime(logs[i][0])\n",
    "        prev_log_time = parse_datetime(logs[i-1][0])\n",
    "\n",
    "        if log_time is None or prev_log_time is None:\n",
    "            continue  # 시간 값이 None인 경우 해당 로그 건너뜀\n",
    "\n",
    "        file_name = logs[i][1]\n",
    "        operation = logs[i][2]\n",
    "        prev_file_name = logs[i-1][1]\n",
    "        prev_operation = logs[i-1][2]\n",
    "\n",
    "        if file_name == prev_file_name and operation == 'Modify':\n",
    "            modification_count += 1\n",
    "            current_sequence.append(logs[i])\n",
    "\n",
    "            # 시간 차이가 짧고 수정 횟수가 임계치를 넘었을 경우 비정상으로 처리\n",
    "            if (log_time - prev_log_time) <= time_threshold and modification_count >= min_modifications:\n",
    "                sequences.append(current_sequence)\n",
    "                labels.append(1)  # 비정상 행위로 라벨링\n",
    "                current_sequence = []\n",
    "                modification_count = 0\n",
    "        else:\n",
    "            if len(current_sequence) > 0:\n",
    "                sequences.append(current_sequence)\n",
    "                labels.append(0)  # 정상 행위로 라벨링\n",
    "                current_sequence = []\n",
    "            modification_count = 0\n",
    "\n",
    "    return sequences, labels"
   ]
  },
  {
   "cell_type": "code",
   "execution_count": 16,
   "id": "62fa5c00-cfcc-44b9-a9ce-7ce53e8a9492",
   "metadata": {},
   "outputs": [],
   "source": [
    "# 로그 시퀀스에서 파일 이름과 같은 문자열 데이터를 숫자로 변환하는 함수\n",
    "def encode_sequence(sequence):\n",
    "    encoded = []\n",
    "    for log in sequence:\n",
    "        log_time, file_name, operation = log\n",
    "        \n",
    "        # 시간 값을 float 또는 int로 변환 (log_time이 이미 숫자여야 함)\n",
    "        if isinstance(log_time, str):\n",
    "            log_time = parse_datetime(log_time)  # 혹은 적절히 변환\n",
    "\n",
    "        # 파일 이름을 숫자로 변환\n",
    "        file_enc = hash(file_name) % 1000 if file_name else 0  # 'unknown' 파일도 숫자로 변환\n",
    "        \n",
    "        # 작업 유형을 숫자로 인코딩\n",
    "        op_enc = 1 if operation == 'Modify' else 0\n",
    "        \n",
    "        encoded.append([log_time, file_enc, op_enc])\n",
    "    return encoded"
   ]
  },
  {
   "cell_type": "code",
   "execution_count": 17,
   "id": "25fb3c96-d222-454e-8924-bdbf57da51f2",
   "metadata": {},
   "outputs": [],
   "source": [
    "# LSTM 모델 정의\n",
    "class LogLSTM(nn.Module):\n",
    "    def __init__(self, input_size, hidden_size, output_size, num_layers):\n",
    "        super(LogLSTM, self).__init__()\n",
    "        self.lstm = nn.LSTM(input_size, hidden_size, num_layers, batch_first=True)\n",
    "        self.fc = nn.Linear(hidden_size, output_size)\n",
    "    \n",
    "    def forward(self, x):\n",
    "        out, _ = self.lstm(x)\n",
    "        out = self.fc(out[:, -1, :])  # 마지막 타임스텝의 출력만 사용\n",
    "        return torch.sigmoid(out)"
   ]
  },
  {
   "cell_type": "code",
   "execution_count": 18,
   "id": "3bd4d0f5-ee2b-4db6-95b8-13efaabd38ea",
   "metadata": {},
   "outputs": [],
   "source": [
    "# 데이터 로드 및 전처리\n",
    "db_path = r\"C:\\Users\\addy0\\OneDrive\\바탕 화면\\normalization.db\"\n",
    "logs = load_logs_from_database(db_path)"
   ]
  },
  {
   "cell_type": "code",
   "execution_count": 19,
   "id": "e1c68dda-1c14-4de1-b782-2c0042204646",
   "metadata": {},
   "outputs": [],
   "source": [
    "# 시퀀스와 라벨을 생성한 후 출력해 확인\n",
    "sequences, labels = create_dataset(logs)"
   ]
  },
  {
   "cell_type": "code",
   "execution_count": null,
   "id": "0ffd2b45-dc94-4a88-8a43-41271f870ab4",
   "metadata": {},
   "outputs": [],
   "source": [
    "print(f\"Sequences: {sequences}\")\n",
    "print(f\"Labels: {labels}\")"
   ]
  },
  {
   "cell_type": "code",
   "execution_count": 20,
   "id": "ec61e7db-bc29-4747-ad60-221afd102b50",
   "metadata": {},
   "outputs": [],
   "source": [
    "# 시퀀스를 텐서로 변환\n",
    "encoded_sequences = [encode_sequence(seq) for seq in sequences]\n",
    "\n",
    "# 패딩하여 시퀀스 길이를 10으로 맞추기\n",
    "encoded_sequences = np.array([np.pad(seq, ((0, 10 - len(seq)), (0, 0)), 'constant', constant_values=0) for seq in encoded_sequences])\n",
    "\n",
    "# 라벨 배열도 numpy로 변환\n",
    "labels = np.array(labels)\n",
    "\n",
    "# 데이터셋 분할 (train/test)\n",
    "X_train, X_test, y_train, y_test = train_test_split(encoded_sequences, labels, test_size=0.2)"
   ]
  },
  {
   "cell_type": "code",
   "execution_count": 21,
   "id": "ae1a11fc-1be4-43e7-959d-40dfdf52540e",
   "metadata": {},
   "outputs": [],
   "source": [
    "# 텐서로 변환 (모든 데이터가 float 또는 int여야 함)\n",
    "X_train = torch.tensor(X_train, dtype=torch.float32)\n",
    "X_test = torch.tensor(X_test, dtype=torch.float32)\n",
    "y_train = torch.tensor(y_train, dtype=torch.float32).unsqueeze(1)  # 라벨도 텐서로 변환\n",
    "y_test = torch.tensor(y_test, dtype=torch.float32).unsqueeze(1)"
   ]
  },
  {
   "cell_type": "code",
   "execution_count": 23,
   "id": "76af52f2-c1ce-48f7-839d-0b35b94e5aa2",
   "metadata": {},
   "outputs": [],
   "source": [
    "# 모델 학습 설정\n",
    "input_size = 3  # time, file_name, operation 3개의 피처\n",
    "hidden_size = 64\n",
    "output_size = 1  # 이진 분류\n",
    "num_layers = 1\n",
    "model = LogLSTM(input_size, hidden_size, output_size, num_layers)"
   ]
  },
  {
   "cell_type": "code",
   "execution_count": 24,
   "id": "9db77dc4-e4b3-4acf-b7ea-27b17b6cc483",
   "metadata": {},
   "outputs": [],
   "source": [
    "criterion = nn.BCELoss()  # 이진 교차 엔트로피 손실 함수\n",
    "optimizer = optim.Adam(model.parameters(), lr=0.001)"
   ]
  },
  {
   "cell_type": "code",
   "execution_count": 25,
   "id": "bf4bfcc0-3b5f-4732-aad5-5ec6064fb738",
   "metadata": {},
   "outputs": [
    {
     "name": "stdout",
     "output_type": "stream",
     "text": [
      "Epoch [1/10], Loss: 0.675111711025238\n",
      "Epoch [2/10], Loss: 0.6711539030075073\n",
      "Epoch [3/10], Loss: 0.6671518087387085\n",
      "Epoch [4/10], Loss: 0.6630805134773254\n",
      "Epoch [5/10], Loss: 0.6589135527610779\n",
      "Epoch [6/10], Loss: 0.6546230912208557\n",
      "Epoch [7/10], Loss: 0.6501808762550354\n",
      "Epoch [8/10], Loss: 0.6455557346343994\n",
      "Epoch [9/10], Loss: 0.6407127976417542\n",
      "Epoch [10/10], Loss: 0.6356114745140076\n"
     ]
    }
   ],
   "source": [
    "# 모델 학습\n",
    "epochs = 10\n",
    "for epoch in range(epochs):\n",
    "    model.train()\n",
    "    optimizer.zero_grad()\n",
    "\n",
    "    outputs = model(X_train)\n",
    "    loss = criterion(outputs, y_train)\n",
    "    loss.backward()\n",
    "    optimizer.step()\n",
    "\n",
    "    print(f\"Epoch [{epoch+1}/{epochs}], Loss: {loss.item()}\")"
   ]
  },
  {
   "cell_type": "code",
   "execution_count": 26,
   "id": "cc69ebf7-e2a2-437d-bde8-d00631671cd4",
   "metadata": {},
   "outputs": [
    {
     "name": "stdout",
     "output_type": "stream",
     "text": [
      "Test Accuracy: 76.85%\n"
     ]
    }
   ],
   "source": [
    "# 모델 평가\n",
    "model.eval()\n",
    "with torch.no_grad():\n",
    "    predictions = model(X_test)\n",
    "    predictions = (predictions > 0.5).float()\n",
    "    accuracy = (predictions == y_test).float().mean()\n",
    "    print(f\"Test Accuracy: {accuracy.item() * 100:.2f}%\")"
   ]
  },
  {
   "cell_type": "code",
   "execution_count": null,
   "id": "ed1c286b-a3c6-4517-ad80-4d4f17629420",
   "metadata": {},
   "outputs": [],
   "source": []
  }
 ],
 "metadata": {
  "kernelspec": {
   "display_name": "Python 3 (ipykernel)",
   "language": "python",
   "name": "python3"
  },
  "language_info": {
   "codemirror_mode": {
    "name": "ipython",
    "version": 3
   },
   "file_extension": ".py",
   "mimetype": "text/x-python",
   "name": "python",
   "nbconvert_exporter": "python",
   "pygments_lexer": "ipython3",
   "version": "3.11.9"
  }
 },
 "nbformat": 4,
 "nbformat_minor": 5
}
